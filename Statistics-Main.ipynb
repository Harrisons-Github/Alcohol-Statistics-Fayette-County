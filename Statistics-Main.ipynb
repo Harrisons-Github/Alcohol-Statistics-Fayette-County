{
  "nbformat": 4,
  "nbformat_minor": 0,
  "metadata": {
    "colab": {
      "provenance": [],
      "toc_visible": true,
      "history_visible": true
    },
    "kernelspec": {
      "name": "python3",
      "display_name": "Python 3"
    },
    "language_info": {
      "name": "python"
    }
  },
  "cells": [
    {
      "cell_type": "markdown",
      "source": [
        "# Programming Assignment 4: Data Science Practicum\n",
        "\n",
        "Name: Harrison Jacob\n",
        "\n",
        "Date: 4/1/2025\n",
        "\n",
        "Summary: This notebook contains code that will allow the user to gather different data regarding alcohol licensing in the Fayette county area of Kentucky. Each chunk of code and output should be described properly within the notebook\n",
        "\n",
        "---\n",
        "\n"
      ],
      "metadata": {
        "id": "pP1AuqUa8zRV"
      }
    },
    {
      "cell_type": "markdown",
      "source": [
        "This first section imports all required libraries and allows the user to designate their desired file name for input"
      ],
      "metadata": {
        "id": "msmdotrB-_J4"
      }
    },
    {
      "cell_type": "code",
      "execution_count": 106,
      "metadata": {
        "colab": {
          "base_uri": "https://localhost:8080/"
        },
        "id": "Y7YQDJcg39n2",
        "outputId": "90abc270-2945-4fbe-bd43-268ef9732e74"
      },
      "outputs": [
        {
          "output_type": "stream",
          "name": "stdout",
          "text": [
            "Data Imported!\n"
          ]
        }
      ],
      "source": [
        "#Imports required\n",
        "import pandas as pd\n",
        "import requests\n",
        "import time\n",
        "\n",
        "# Properly read and alter the files that will be used in the code\n",
        "# You are free to change the files as you see fit. I created a new .csv file with a shortened amount of data for time sake that I will include in the submission\n",
        "file_nq = \"ActiveLicensesNQ-Shortened-2024 - ActiveLicensesNQ-2024.csv\"\n",
        "file_all = \"ActiveLicenses-2024.csv\"\n",
        "# You may need to change how many rows are skipped depending on your file\n",
        "df_nq = pd.read_csv(file_nq, skiprows=3)\n",
        "df_all = pd.read_csv(file_all, skiprows=3)\n",
        "\n",
        "print(\"Data Imported!\")"
      ]
    },
    {
      "cell_type": "markdown",
      "source": [
        "This second section creates the population dataframe that will be used to hold all of the statistics from the cencus API."
      ],
      "metadata": {
        "id": "pOaT22-r-uOa"
      }
    },
    {
      "cell_type": "code",
      "source": [
        "#Function to create the population dataframe\n",
        "def get_tract_population():\n",
        "    # Grab the url\n",
        "    pop_url = 'https://api.census.gov/data/2020/acs/acs5/profile?get=NAME,DP05_0001E&for=tract:*&in=state:21&in=county:067'\n",
        "    # Handle the data\n",
        "    response = requests.get(pop_url)\n",
        "    raw_pop_data = response.json()\n",
        "    # Put the data into a dataframe\n",
        "    pop_data = raw_pop_data[1:]\n",
        "    pop_df = pd.DataFrame(pop_data, columns=raw_pop_data[0])\n",
        "    # Grab only the name of the cencus tract\n",
        "    pop_df['Tract_ID'] = pop_df['NAME'].str.extract('([^,]+)')\n",
        "    pop_df.rename(columns={'DP05_0001E': 'Population'}, inplace=True)\n",
        "    print(\"Population dataframe data input successful!\")\n",
        "    return pop_df[['Tract_ID', 'Population']]\n",
        "\n",
        "# Call the function and properly format it\n",
        "population_df = get_tract_population()\n",
        "population_df.dropna(inplace=True)\n",
        "population_df['Population'] = population_df['Population'].astype(int)\n",
        "# print(population_df)"
      ],
      "metadata": {
        "colab": {
          "base_uri": "https://localhost:8080/"
        },
        "id": "dAFIb3J5-cbN",
        "outputId": "679770d6-a77a-42af-8be7-f4a8f163e48a"
      },
      "execution_count": 107,
      "outputs": [
        {
          "output_type": "stream",
          "name": "stdout",
          "text": [
            "Population dataframe data input successful!\n"
          ]
        }
      ]
    },
    {
      "cell_type": "markdown",
      "source": [
        "This third section allows us to convert all of the street addresses into their responding tract"
      ],
      "metadata": {
        "id": "5xYZ155LEWqK"
      }
    },
    {
      "cell_type": "code",
      "source": [
        "# Function to get Census Tract using the US Census Geocoding API\n",
        "def get_census_tract(street):\n",
        "    # Call the global variable\n",
        "    global count\n",
        "    # URL for API\n",
        "    base_url = f'https://geocoding.geo.census.gov/geocoder/geographies/address?street={street}&city=Lexington&state=KY&benchmark=Public_AR_Census2020&vintage=Census2020_Census2020&layers=6&format=json'\n",
        "    try:\n",
        "        # Grab the data\n",
        "        response = requests.get(base_url)\n",
        "        data = response.json()\n",
        "        # Format the data\n",
        "        tract_data = data['result']['addressMatches'][0]['geographies']['Census Tracts'][0]\n",
        "        tract_name = tract_data['NAME']\n",
        "        tract_id = tract_data['GEOID']\n",
        "\n",
        "        # you can add time.sleep(1) if API is overloaded\n",
        "\n",
        "    # Error Handling\n",
        "    except (requests.exceptions.RequestException, IndexError, KeyError):\n",
        "        print(f\"Error processing address: {street}\")\n",
        "        return None\n",
        "    # Print successsful addition\n",
        "    print(\"{} addresses succesfully converted!\".format(count))\n",
        "    count += 1\n",
        "    return tract_name\n",
        "\n",
        "count = 0\n",
        "df_nq['Tract_ID'] = df_nq['PremisesStreet'].apply(get_census_tract)"
      ],
      "metadata": {
        "colab": {
          "base_uri": "https://localhost:8080/"
        },
        "id": "a5QOLccp-na1",
        "outputId": "764f9f7c-37b3-41f3-d37a-34906eeb8219"
      },
      "execution_count": 111,
      "outputs": [
        {
          "output_type": "stream",
          "name": "stdout",
          "text": [
            "0 addresses succesfully converted!\n",
            "1 addresses succesfully converted!\n",
            "2 addresses succesfully converted!\n",
            "3 addresses succesfully converted!\n",
            "4 addresses succesfully converted!\n",
            "5 addresses succesfully converted!\n",
            "6 addresses succesfully converted!\n",
            "7 addresses succesfully converted!\n",
            "8 addresses succesfully converted!\n",
            "9 addresses succesfully converted!\n",
            "10 addresses succesfully converted!\n",
            "11 addresses succesfully converted!\n",
            "Error processing address: 122 Marion Ste 120\n",
            "12 addresses succesfully converted!\n",
            "13 addresses succesfully converted!\n",
            "14 addresses succesfully converted!\n",
            "15 addresses succesfully converted!\n",
            "16 addresses succesfully converted!\n",
            "17 addresses succesfully converted!\n",
            "18 addresses succesfully converted!\n",
            "19 addresses succesfully converted!\n"
          ]
        }
      ]
    },
    {
      "cell_type": "markdown",
      "source": [
        "This final section merges and visualizes the data that the user would like to see"
      ],
      "metadata": {
        "id": "DuRHkN1QEgzl"
      }
    },
    {
      "cell_type": "code",
      "source": [
        "# Merge and compute rates\n",
        "tract_counts = df_nq['Tract_ID'].value_counts().reset_index()\n",
        "tract_counts.columns = ['Tract_ID', 'License_Count']\n",
        "df_merged = tract_counts.merge(population_df, on='Tract_ID', how='left')\n",
        "df_merged.dropna(inplace=True)\n",
        "df_merged['Rate_per_1000'] = (df_merged['License_Count'] / df_merged['Population']) * 1000\n",
        "\n",
        "# Top 20 by rate\n",
        "top_20_rate = df_merged.nlargest(20, 'Rate_per_1000')\n",
        "# Top 20 by count\n",
        "top_20_count = df_merged.nlargest(20, 'License_Count')\n",
        "\n",
        "# Display results\n",
        "print(\"Top 20 Census Tracts by Alcohol License Rate:\")\n",
        "print(top_20_rate[['Tract_ID', 'Rate_per_1000']])\n",
        "print(\"\\nTop 20 Census Tracts by Number of Licenses:\")\n",
        "print(top_20_count[['Tract_ID', 'License_Count']])\n"
      ],
      "metadata": {
        "colab": {
          "base_uri": "https://localhost:8080/"
        },
        "id": "xAjdMZMQ-p1-",
        "outputId": "22020c77-88c9-48a5-f504-d2d7c52ed94f"
      },
      "execution_count": 112,
      "outputs": [
        {
          "output_type": "stream",
          "name": "stdout",
          "text": [
            "Top 20 Census Tracts by Alcohol License Rate:\n",
            "              Tract_ID  Rate_per_1000\n",
            "0    Census Tract 1.01       0.946074\n",
            "9      Census Tract 10       0.625782\n",
            "8      Census Tract 22       0.587199\n",
            "6      Census Tract 13       0.469263\n",
            "11      Census Tract 3       0.404531\n",
            "3       Census Tract 7       0.383142\n",
            "2       Census Tract 9       0.336078\n",
            "1   Census Tract 32.02       0.306185\n",
            "12  Census Tract 42.07       0.283206\n",
            "13  Census Tract 39.11       0.280505\n",
            "7       Census Tract 2       0.270563\n",
            "10     Census Tract 24       0.228258\n",
            "14  Census Tract 34.02       0.221680\n",
            "4       Census Tract 6       0.218866\n",
            "5   Census Tract 42.04       0.179308\n",
            "15  Census Tract 42.08       0.130361\n",
            "\n",
            "Top 20 Census Tracts by Number of Licenses:\n",
            "              Tract_ID  License_Count\n",
            "0    Census Tract 1.01              3\n",
            "1   Census Tract 32.02              2\n",
            "2       Census Tract 9              2\n",
            "3       Census Tract 7              1\n",
            "4       Census Tract 6              1\n",
            "5   Census Tract 42.04              1\n",
            "6      Census Tract 13              1\n",
            "7       Census Tract 2              1\n",
            "8      Census Tract 22              1\n",
            "9      Census Tract 10              1\n",
            "10     Census Tract 24              1\n",
            "11      Census Tract 3              1\n",
            "12  Census Tract 42.07              1\n",
            "13  Census Tract 39.11              1\n",
            "14  Census Tract 34.02              1\n",
            "15  Census Tract 42.08              1\n"
          ]
        }
      ]
    }
  ]
}